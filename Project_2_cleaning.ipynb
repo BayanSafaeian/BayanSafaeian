{
  "nbformat": 4,
  "nbformat_minor": 0,
  "metadata": {
    "colab": {
      "name": "Project_2_cleaning.ipynb",
      "provenance": [],
      "mount_file_id": "1yUWfVnALqlq4DgCmitOYEuAJnJWXsKCv",
      "authorship_tag": "ABX9TyOGf3QVPEGGP6m7c7H9IVW/",
      "include_colab_link": true
    },
    "kernelspec": {
      "name": "python3",
      "display_name": "Python 3"
    },
    "language_info": {
      "name": "python"
    }
  },
  "cells": [
    {
      "cell_type": "markdown",
      "metadata": {
        "id": "view-in-github",
        "colab_type": "text"
      },
      "source": [
        "<a href=\"https://colab.research.google.com/github/BayanSafaeian/BayanSafaeian/blob/main/Project_2_cleaning.ipynb\" target=\"_parent\"><img src=\"https://colab.research.google.com/assets/colab-badge.svg\" alt=\"Open In Colab\"/></a>"
      ]
    },
    {
      "cell_type": "code",
      "metadata": {
        "id": "V9EY-gBlk4hG"
      },
      "source": [
        "# cleaning_print\n",
        "def listToString(s): #i got this method from https://www.geeksforgeeks.org/python-program-to-convert-a-list-to-string/\n",
        "    str1 = \"\" \n",
        "    for ele in s: \n",
        "        str1 += ele  \n",
        "    return str1 \n",
        "\n",
        "\n",
        "class Machine_learning: #I created this class so I can Import whatever I need without needing to search through prev assignments, I'll be using this for my homework from now on, it's also nice because its's organized\n",
        "    def __init__(self,Import):\n",
        "        self.Import = Import\n",
        "\n",
        "    def Import(Data_tools = False, Visualizations = False, ML_tools= False, Supervised_ML = False, All = False):\n",
        "        imports = []\n",
        "\n",
        "        if(Data_tools | All):\n",
        "          import pandas as pd\n",
        "          import numpy as np\n",
        "\n",
        "          imports.append(pd)\n",
        "          imports.append(np)\n",
        "\n",
        "        if(Visualizations | All):\n",
        "          import matplotlib.pyplot as plt\n",
        "          import seaborn as sns\n",
        "\n",
        "          imports.append(plt)\n",
        "          imports.append(sns)\n",
        "\n",
        "        if(ML_tools | All):\n",
        "          from sklearn.preprocessing import StandardScaler\n",
        "          from sklearn.metrics import accuracy_score\n",
        "          from sklearn.model_selection import GridSearchCV\n",
        "          from sklearn.metrics import mean_absolute_error, mean_squared_error\n",
        "          from sklearn.model_selection import train_test_split\n",
        "\n",
        "          imports.append(StandardScaler)\n",
        "          imports.append(accuracy_score)\n",
        "          imports.append(GridSearchCV)\n",
        "          imports.append(mean_absolute_error)\n",
        "          imports.append(mean_squared_error)          \n",
        "          imports.append(train_test_split)          \n",
        "\n",
        "        if(Supervised_ML | All):\n",
        "          from sklearn.neighbors import KNeighborsClassifier\n",
        "          from sklearn.linear_model import LogisticRegression\n",
        "          from sklearn.ensemble import RandomForestClassifier\n",
        "          from sklearn.tree import DecisionTreeRegressor\n",
        "          from sklearn.ensemble import BaggingRegressor\n",
        "\n",
        "          imports.append(KNeighborsClassifier)\n",
        "          imports.append(LogisticRegression)\n",
        "          imports.append(RandomForestClassifier)\n",
        "          imports.append(DecisionTreeRegressor)\n",
        "          imports.append(BaggingRegressor)\n",
        "\n",
        "        print(imports)\n",
        "        return imports\n",
        "    def Import_list(Data_tools = False, Visualizations = False, ML_tools= False, Supervised_ML = False , All = False):\n",
        "        List = ['Imports:']\n",
        "\n",
        "        if(Data_tools | All):\n",
        "          List.append('pd,')\n",
        "          List.append('np,')\n",
        "\n",
        "        if(Visualizations | All):\n",
        "          List.append('plt,')\n",
        "          List.append('sns,')\n",
        "        \n",
        "        if(ML_tools | All):\n",
        "          List.append('StandardScaler,')\n",
        "          List.append('accuracy_score,')\n",
        "          List.append('GridSearchCV,')\n",
        "          List.append('mean_absolute_error,')\n",
        "          List.append('mean_squared_error,')\n",
        "          List.append('train_test_split,')\n",
        "\n",
        "        if(Supervised_ML | All):\n",
        "          List.append('KNeighborsClassifier,')\n",
        "          List.append('LogisticRegression,')\n",
        "          List.append('RandomForestClassifier,')\n",
        "          List.append('DecisionTreeRegressor,')\n",
        "          List.append('BaggingRegressor,')\n",
        "          \n",
        "        return List\n",
        "\n",
        "    def DF_info(Data_frame): #outputs useful information about the data frame, such as if it has any null values\n",
        "        print(Data_frame.isnull().sum())\n",
        "        print(Data_frame.describe())\n"
      ],
      "execution_count": 1,
      "outputs": []
    },
    {
      "cell_type": "code",
      "metadata": {
        "colab": {
          "base_uri": "https://localhost:8080/"
        },
        "id": "496XV5EEvQdT",
        "outputId": "e6da2295-c680-47ca-f8fa-76e05441f432"
      },
      "source": [
        "ML = Machine_learning\n",
        "Import_list = ML.Import_list(Data_tools=True)\n",
        "print(listToString(Import_list)) #prints list of the imports I needc"
      ],
      "execution_count": 4,
      "outputs": [
        {
          "output_type": "stream",
          "name": "stdout",
          "text": [
            "Imports:pd,np,\n"
          ]
        }
      ]
    },
    {
      "cell_type": "code",
      "metadata": {
        "colab": {
          "base_uri": "https://localhost:8080/"
        },
        "id": "3YsFyVYwvq5V",
        "outputId": "8b83e37b-899c-40d1-89fb-965f524d1191"
      },
      "source": [
        "pd,np = ML.Import(Data_tools= True)\n"
      ],
      "execution_count": 5,
      "outputs": [
        {
          "output_type": "stream",
          "name": "stdout",
          "text": [
            "[<module 'pandas' from '/usr/local/lib/python3.7/dist-packages/pandas/__init__.py'>, <module 'numpy' from '/usr/local/lib/python3.7/dist-packages/numpy/__init__.py'>]\n"
          ]
        }
      ]
    },
    {
      "cell_type": "code",
      "metadata": {
        "colab": {
          "base_uri": "https://localhost:8080/",
          "height": 207
        },
        "id": "BCQUaWByv02L",
        "outputId": "54a3a8c9-4b05-430e-9d7a-16534b15806a"
      },
      "source": [
        "df = pd.read_json('/content/drive/MyDrive/Coding Dojo/Coding dojo data/yelp_academic_dataset_covid_features.json', lines=True)\n",
        "df.head() #I'm suprised this worked"
      ],
      "execution_count": 12,
      "outputs": [
        {
          "output_type": "execute_result",
          "data": {
            "text/html": [
              "<div>\n",
              "<style scoped>\n",
              "    .dataframe tbody tr th:only-of-type {\n",
              "        vertical-align: middle;\n",
              "    }\n",
              "\n",
              "    .dataframe tbody tr th {\n",
              "        vertical-align: top;\n",
              "    }\n",
              "\n",
              "    .dataframe thead th {\n",
              "        text-align: right;\n",
              "    }\n",
              "</style>\n",
              "<table border=\"1\" class=\"dataframe\">\n",
              "  <thead>\n",
              "    <tr style=\"text-align: right;\">\n",
              "      <th></th>\n",
              "      <th>business_id</th>\n",
              "      <th>highlights</th>\n",
              "      <th>delivery or takeout</th>\n",
              "      <th>Grubhub enabled</th>\n",
              "      <th>Call To Action enabled</th>\n",
              "      <th>Request a Quote Enabled</th>\n",
              "      <th>Covid Banner</th>\n",
              "      <th>Temporary Closed Until</th>\n",
              "      <th>Virtual Services Offered</th>\n",
              "    </tr>\n",
              "  </thead>\n",
              "  <tbody>\n",
              "    <tr>\n",
              "      <th>0</th>\n",
              "      <td>9kXRUIkwdDtnAPO6tVo51g</td>\n",
              "      <td>FALSE</td>\n",
              "      <td>FALSE</td>\n",
              "      <td>FALSE</td>\n",
              "      <td>FALSE</td>\n",
              "      <td>FALSE</td>\n",
              "      <td>FALSE</td>\n",
              "      <td>FALSE</td>\n",
              "      <td>FALSE</td>\n",
              "    </tr>\n",
              "    <tr>\n",
              "      <th>1</th>\n",
              "      <td>H6D5HOTfMjrZt7r1EObZ1g</td>\n",
              "      <td>FALSE</td>\n",
              "      <td>FALSE</td>\n",
              "      <td>FALSE</td>\n",
              "      <td>FALSE</td>\n",
              "      <td>FALSE</td>\n",
              "      <td>FALSE</td>\n",
              "      <td>FALSE</td>\n",
              "      <td>FALSE</td>\n",
              "    </tr>\n",
              "    <tr>\n",
              "      <th>2</th>\n",
              "      <td>FYddq7fUtzobZcw4jOJgVA</td>\n",
              "      <td>FALSE</td>\n",
              "      <td>FALSE</td>\n",
              "      <td>FALSE</td>\n",
              "      <td>FALSE</td>\n",
              "      <td>FALSE</td>\n",
              "      <td>FALSE</td>\n",
              "      <td>FALSE</td>\n",
              "      <td>FALSE</td>\n",
              "    </tr>\n",
              "    <tr>\n",
              "      <th>3</th>\n",
              "      <td>c75jLTjlgA9q3gImLEGT6w</td>\n",
              "      <td>FALSE</td>\n",
              "      <td>FALSE</td>\n",
              "      <td>FALSE</td>\n",
              "      <td>FALSE</td>\n",
              "      <td>FALSE</td>\n",
              "      <td>FALSE</td>\n",
              "      <td>FALSE</td>\n",
              "      <td>FALSE</td>\n",
              "    </tr>\n",
              "    <tr>\n",
              "      <th>4</th>\n",
              "      <td>YfzPiY50h_10Sjlg3mnNWQ</td>\n",
              "      <td>FALSE</td>\n",
              "      <td>FALSE</td>\n",
              "      <td>FALSE</td>\n",
              "      <td>FALSE</td>\n",
              "      <td>FALSE</td>\n",
              "      <td>FALSE</td>\n",
              "      <td>FALSE</td>\n",
              "      <td>FALSE</td>\n",
              "    </tr>\n",
              "  </tbody>\n",
              "</table>\n",
              "</div>"
            ],
            "text/plain": [
              "              business_id  ... Virtual Services Offered\n",
              "0  9kXRUIkwdDtnAPO6tVo51g  ...                    FALSE\n",
              "1  H6D5HOTfMjrZt7r1EObZ1g  ...                    FALSE\n",
              "2  FYddq7fUtzobZcw4jOJgVA  ...                    FALSE\n",
              "3  c75jLTjlgA9q3gImLEGT6w  ...                    FALSE\n",
              "4  YfzPiY50h_10Sjlg3mnNWQ  ...                    FALSE\n",
              "\n",
              "[5 rows x 9 columns]"
            ]
          },
          "metadata": {},
          "execution_count": 12
        }
      ]
    },
    {
      "cell_type": "code",
      "metadata": {
        "colab": {
          "base_uri": "https://localhost:8080/"
        },
        "id": "MdFIND2OxYvx",
        "outputId": "2ecc6e67-305d-4058-bd8c-2097c0eee8ad"
      },
      "source": [
        "valuecounts =  df.drop(columns= 'business_id')\n",
        "\n",
        "valuecounts.value_counts()"
      ],
      "execution_count": 17,
      "outputs": [
        {
          "output_type": "execute_result",
          "data": {
            "text/plain": [
              "highlights  delivery or takeout  Grubhub enabled  Call To Action enabled  Request a Quote Enabled  Covid Banner                                                                                                                                                                                                                                                                                                                                                                                                                                                                                                                              Temporary Closed Until    Virtual Services Offered\n",
              "FALSE       FALSE                FALSE            FALSE                   FALSE                    FALSE                                                                                                                                                                                                                                                                                                                                                                                                                                                                                                                                     FALSE                     FALSE                       101322\n",
              "            TRUE                 FALSE            FALSE                   FALSE                    FALSE                                                                                                                                                                                                                                                                                                                                                                                                                                                                                                                                     FALSE                     FALSE                        37351\n",
              "            FALSE                FALSE            TRUE                    FALSE                    FALSE                                                                                                                                                                                                                                                                                                                                                                                                                                                                                                                                     FALSE                     FALSE                        27471\n",
              "            TRUE                 TRUE             FALSE                   FALSE                    FALSE                                                                                                                                                                                                                                                                                                                                                                                                                                                                                                                                     FALSE                     FALSE                         9563\n",
              "                                 FALSE            TRUE                    FALSE                    FALSE                                                                                                                                                                                                                                                                                                                                                                                                                                                                                                                                     FALSE                     FALSE                         7296\n",
              "                                                                                                                                                                                                                                                                                                                                                                                                                                                                                                                                                                                                                                                                                                    ...  \n",
              "                                                  FALSE                   FALSE                    The Charlotte Regional Farmers Market is open Tuesday through Saturday from 8:00 am - 6:00 pm, and Sundays from 12:00 pm - 6:00 pm.  We have low traffic at the market Tuesday, Wednesday and Thursday and recommend those days for people who are at high risk.                                                                                                                                                                                                                                                                          FALSE                     FALSE                            1\n",
              "                                                                                                   The Hot Chick is open and excited to take the next step on the path of returning to our normal operations. We are maintaining the highest levels of cleanliness with added guidelines based off the CDC and ADHS recommendations. During this new, challenging time in our roles as customers and companies, we must work together to get through it. We appreciate your patience, kindness and understanding that, as a customer, your The Hot Chick experience may temporarily look different as we navigate this next phase together.  FALSE                     FALSE                            1\n",
              "                                                                                                   The Market is closed to the public but a few businesses are offering curbside pick up and delivery! Check out Viva Raw, Zia Pia imports & Italian kitchen, It's Poppin, Orrman's Cheese Shop, Assorted Table Wine Shoppe, and Pott's Chocolate websites and social media for up to date information.                                                                                                                                                                                                                                      FALSE                     FALSE                            1\n",
              "                                                                                                   The Writer's Block is now reopened for in-store shopping. We are limiting occupancy to 10 customers at a time, and are requiring face masks--which we will provide, if necessary. Please note that our public seating and our restrooms will continue to be unavailable until further notice.\\n\\nPrefer to keep your distance? Consider visiting our real-time online store at www.thewritersblock.org. We are offering free media-mail shipping for all orders over $20, plus curbside pickup during our regular hours.                  FALSE                     FALSE                            1\n",
              "            FALSE                FALSE            FALSE                   FALSE                                                                                                                                                                                                                                                                                                                                                                                                                                                                                                                                                              2020-07-01T00:00:00.000Z  FALSE                            1\n",
              "Length: 7928, dtype: int64"
            ]
          },
          "metadata": {},
          "execution_count": 17
        }
      ]
    },
    {
      "cell_type": "code",
      "metadata": {
        "colab": {
          "base_uri": "https://localhost:8080/",
          "height": 175
        },
        "id": "08t2sCwMyMbs",
        "outputId": "cbc2e924-07d3-48ce-a8b0-339dfa2b6709"
      },
      "source": [
        "df.describe()"
      ],
      "execution_count": 18,
      "outputs": [
        {
          "output_type": "execute_result",
          "data": {
            "text/html": [
              "<div>\n",
              "<style scoped>\n",
              "    .dataframe tbody tr th:only-of-type {\n",
              "        vertical-align: middle;\n",
              "    }\n",
              "\n",
              "    .dataframe tbody tr th {\n",
              "        vertical-align: top;\n",
              "    }\n",
              "\n",
              "    .dataframe thead th {\n",
              "        text-align: right;\n",
              "    }\n",
              "</style>\n",
              "<table border=\"1\" class=\"dataframe\">\n",
              "  <thead>\n",
              "    <tr style=\"text-align: right;\">\n",
              "      <th></th>\n",
              "      <th>business_id</th>\n",
              "      <th>highlights</th>\n",
              "      <th>delivery or takeout</th>\n",
              "      <th>Grubhub enabled</th>\n",
              "      <th>Call To Action enabled</th>\n",
              "      <th>Request a Quote Enabled</th>\n",
              "      <th>Covid Banner</th>\n",
              "      <th>Temporary Closed Until</th>\n",
              "      <th>Virtual Services Offered</th>\n",
              "    </tr>\n",
              "  </thead>\n",
              "  <tbody>\n",
              "    <tr>\n",
              "      <th>count</th>\n",
              "      <td>209795</td>\n",
              "      <td>209795</td>\n",
              "      <td>209795</td>\n",
              "      <td>209795</td>\n",
              "      <td>209795</td>\n",
              "      <td>209795</td>\n",
              "      <td>209795</td>\n",
              "      <td>209795</td>\n",
              "      <td>209795</td>\n",
              "    </tr>\n",
              "    <tr>\n",
              "      <th>unique</th>\n",
              "      <td>209393</td>\n",
              "      <td>1038</td>\n",
              "      <td>2</td>\n",
              "      <td>2</td>\n",
              "      <td>2</td>\n",
              "      <td>2</td>\n",
              "      <td>6580</td>\n",
              "      <td>89</td>\n",
              "      <td>8</td>\n",
              "    </tr>\n",
              "    <tr>\n",
              "      <th>top</th>\n",
              "      <td>tNZ_zLPDiKRM4LYtra82ew</td>\n",
              "      <td>FALSE</td>\n",
              "      <td>FALSE</td>\n",
              "      <td>FALSE</td>\n",
              "      <td>FALSE</td>\n",
              "      <td>FALSE</td>\n",
              "      <td>FALSE</td>\n",
              "      <td>FALSE</td>\n",
              "      <td>FALSE</td>\n",
              "    </tr>\n",
              "    <tr>\n",
              "      <th>freq</th>\n",
              "      <td>4</td>\n",
              "      <td>202676</td>\n",
              "      <td>143564</td>\n",
              "      <td>191802</td>\n",
              "      <td>155728</td>\n",
              "      <td>207347</td>\n",
              "      <td>195569</td>\n",
              "      <td>208414</td>\n",
              "      <td>205573</td>\n",
              "    </tr>\n",
              "  </tbody>\n",
              "</table>\n",
              "</div>"
            ],
            "text/plain": [
              "                   business_id  ... Virtual Services Offered\n",
              "count                   209795  ...                   209795\n",
              "unique                  209393  ...                        8\n",
              "top     tNZ_zLPDiKRM4LYtra82ew  ...                    FALSE\n",
              "freq                         4  ...                   205573\n",
              "\n",
              "[4 rows x 9 columns]"
            ]
          },
          "metadata": {},
          "execution_count": 18
        }
      ]
    },
    {
      "cell_type": "code",
      "metadata": {
        "id": "jfuiw_QlygSK"
      },
      "source": [
        ""
      ],
      "execution_count": null,
      "outputs": []
    }
  ]
}